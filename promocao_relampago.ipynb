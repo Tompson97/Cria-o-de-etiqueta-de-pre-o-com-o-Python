{
  "nbformat": 4,
  "nbformat_minor": 0,
  "metadata": {
    "colab": {
      "provenance": [],
      "mount_file_id": "1aAX-EKlhEiOZrj2WOvGEi6xNexosJGQr",
      "authorship_tag": "ABX9TyNDimprFDlCKqCAddAYkEcD",
      "include_colab_link": true
    },
    "kernelspec": {
      "name": "python3",
      "display_name": "Python 3"
    },
    "language_info": {
      "name": "python"
    }
  },
  "cells": [
    {
      "cell_type": "markdown",
      "metadata": {
        "id": "view-in-github",
        "colab_type": "text"
      },
      "source": [
        "<a href=\"https://colab.research.google.com/github/Tompson97/Cria-o-de-etiqueta-de-pre-o-com-o-Python/blob/main/promocao_relampago.ipynb\" target=\"_parent\"><img src=\"https://colab.research.google.com/assets/colab-badge.svg\" alt=\"Open In Colab\"/></a>"
      ]
    },
    {
      "cell_type": "code",
      "source": [
        "#Importando bibliotecas\n",
        "!pip install python-pptx"
      ],
      "metadata": {
        "colab": {
          "base_uri": "https://localhost:8080/"
        },
        "id": "HpWkZwAX7MSL",
        "outputId": "a8e0c388-9a26-4567-9508-f7c2aaf2c015"
      },
      "execution_count": 23,
      "outputs": [
        {
          "output_type": "stream",
          "name": "stdout",
          "text": [
            "Requirement already satisfied: python-pptx in /usr/local/lib/python3.10/dist-packages (0.6.23)\n",
            "Requirement already satisfied: lxml>=3.1.0 in /usr/local/lib/python3.10/dist-packages (from python-pptx) (4.9.4)\n",
            "Requirement already satisfied: Pillow>=3.3.2 in /usr/local/lib/python3.10/dist-packages (from python-pptx) (9.4.0)\n",
            "Requirement already satisfied: XlsxWriter>=0.5.7 in /usr/local/lib/python3.10/dist-packages (from python-pptx) (3.2.0)\n"
          ]
        }
      ]
    },
    {
      "cell_type": "code",
      "source": [
        "from google.colab import drive\n",
        "drive.mount('/content/drive')"
      ],
      "metadata": {
        "colab": {
          "base_uri": "https://localhost:8080/"
        },
        "id": "PVb7Xm2Rcgue",
        "outputId": "7be1ff52-4c0a-4b10-ee34-17a2d88c54be"
      },
      "execution_count": 24,
      "outputs": [
        {
          "output_type": "stream",
          "name": "stdout",
          "text": [
            "Drive already mounted at /content/drive; to attempt to forcibly remount, call drive.mount(\"/content/drive\", force_remount=True).\n"
          ]
        }
      ]
    },
    {
      "cell_type": "code",
      "source": [
        "import pandas as pd\n",
        "import locale\n",
        "import math\n",
        "from pptx import Presentation\n",
        "from pptx.util import Inches\n",
        "from google.colab import files\n",
        "import requests\n",
        "import locale"
      ],
      "metadata": {
        "id": "Fmt0nURlQ5Kt"
      },
      "execution_count": 25,
      "outputs": []
    },
    {
      "cell_type": "code",
      "source": [
        "# Lê os dados do arquivo Excel\n",
        "produtos = pd.read_excel('/content/drive/MyDrive/Projetos Públicos/ETIQUETA/promocao_relampago.xlsx')\n",
        "produtos = produtos.dropna()"
      ],
      "metadata": {
        "id": "wRDXAcIl7Qy_"
      },
      "execution_count": 26,
      "outputs": []
    },
    {
      "cell_type": "markdown",
      "source": [],
      "metadata": {
        "id": "2efIQ2Ez8drB"
      }
    },
    {
      "cell_type": "code",
      "source": [
        "# Cria um novo dataframe para armazenar os dados formatados\n",
        "produtos_formatados = pd.DataFrame(columns=['Nome do Produto', 'Cod Interno', 'Preço DE', 'Preço PIX','Preço Parcelado'])"
      ],
      "metadata": {
        "id": "vGoHeruC7VYK"
      },
      "execution_count": 27,
      "outputs": []
    },
    {
      "cell_type": "code",
      "source": [
        "# Função para formatar moeda no estilo brasileiro\n",
        "def format_brazilian_currency(value):\n",
        "    return f'R$ {value:,.2f}'.replace('.', '#').replace(',', '.').replace('#', ',')\n",
        "\n",
        "# Processa cada linha do dataframe\n",
        "for i in range(len(produtos)):\n",
        "    # Converte os preços para float e formata para o formato 'R$ 1.499,90'\n",
        "    preco_de = format_brazilian_currency(produtos.loc[i, 'Preço DE'])\n",
        "    preco_pix = format_brazilian_currency(produtos.loc[i, 'Preço PIX'])\n",
        "\n",
        "    # Calcula o preço parcelado\n",
        "    preco_parcelado = produtos.loc[i, 'Preço Parcelado']\n",
        "    if preco_parcelado >= 800:\n",
        "        parcelas = 10\n",
        "        preco_parcelado = preco_parcelado / parcelas\n",
        "    else:\n",
        "        parcelas = math.floor(preco_parcelado / 80)\n",
        "        preco_parcelado = preco_parcelado / parcelas\n",
        "    preco_parcelado = \"OU \" + str(parcelas) + \"X DE \" + format_brazilian_currency(preco_parcelado)\n",
        "\n",
        "\n",
        "    # Adiciona os detalhes do produto ao dataframe 'produtos_formatados'\n",
        "    produtos_formatados.loc[i] = [produtos.loc[i, 'Nome do Produto'].upper(), produtos.loc[i, 'Cod Interno'], preco_de, preco_pix, preco_parcelado]\n"
      ],
      "metadata": {
        "id": "qnB2dFBJ7Xly"
      },
      "execution_count": 28,
      "outputs": []
    },
    {
      "cell_type": "code",
      "source": [
        "# Carrega a apresentação\n",
        "prs = Presentation('/content/drive/MyDrive/Projetos Públicos/ETIQUETA/promocao_relampago.pptx')"
      ],
      "metadata": {
        "id": "kUknRXHY7aLy"
      },
      "execution_count": 29,
      "outputs": []
    },
    {
      "cell_type": "code",
      "source": [
        "# Para cada linha do dataframe\n",
        "for index, row in produtos_formatados.iterrows():\n",
        "    # Adiciona um novo slide com o layout '2_EITQUETA AMARELA'\n",
        "    slide_layout = prs.slide_layouts[0]  # Substitua 1 pelo índice do layout '2_EITQUETA AMARELA'\n",
        "    slide = prs.slides.add_slide(slide_layout)\n",
        "\n",
        "    # Mapeia cada coluna para um placeholder específico\n",
        "    placeholders = {10: 'Nome do Produto', 11: 'Cod Interno', 13: 'Preço DE', 14: 'Preço PIX', 15: 'Preço Parcelado'}\n",
        "\n",
        "    # Para cada placeholder no slide\n",
        "    for i in placeholders:\n",
        "        try:\n",
        "            # Adiciona o texto do dataframe ao placeholder\n",
        "            slide.placeholders[i].text = str(row[placeholders[i]])\n",
        "        except KeyError:\n",
        "            print(f\"O slide não tem um placeholder com o índice {i}\")\n",
        "\n",
        "# Salva a apresentação\n",
        "prs.save('nova_promocao_relampago.pptx')"
      ],
      "metadata": {
        "id": "mfZBAljz7gCG"
      },
      "execution_count": 30,
      "outputs": []
    },
    {
      "cell_type": "code",
      "source": [
        "# Inicia o download do arquivo\n",
        "files.download('nova_promocao_relampago.pptx')"
      ],
      "metadata": {
        "id": "Zc9uDitjDRqI",
        "outputId": "93b06ac8-fa42-4c98-dd59-49824487191c",
        "colab": {
          "base_uri": "https://localhost:8080/",
          "height": 17
        }
      },
      "execution_count": 31,
      "outputs": [
        {
          "output_type": "display_data",
          "data": {
            "text/plain": [
              "<IPython.core.display.Javascript object>"
            ],
            "application/javascript": [
              "\n",
              "    async function download(id, filename, size) {\n",
              "      if (!google.colab.kernel.accessAllowed) {\n",
              "        return;\n",
              "      }\n",
              "      const div = document.createElement('div');\n",
              "      const label = document.createElement('label');\n",
              "      label.textContent = `Downloading \"${filename}\": `;\n",
              "      div.appendChild(label);\n",
              "      const progress = document.createElement('progress');\n",
              "      progress.max = size;\n",
              "      div.appendChild(progress);\n",
              "      document.body.appendChild(div);\n",
              "\n",
              "      const buffers = [];\n",
              "      let downloaded = 0;\n",
              "\n",
              "      const channel = await google.colab.kernel.comms.open(id);\n",
              "      // Send a message to notify the kernel that we're ready.\n",
              "      channel.send({})\n",
              "\n",
              "      for await (const message of channel.messages) {\n",
              "        // Send a message to notify the kernel that we're ready.\n",
              "        channel.send({})\n",
              "        if (message.buffers) {\n",
              "          for (const buffer of message.buffers) {\n",
              "            buffers.push(buffer);\n",
              "            downloaded += buffer.byteLength;\n",
              "            progress.value = downloaded;\n",
              "          }\n",
              "        }\n",
              "      }\n",
              "      const blob = new Blob(buffers, {type: 'application/binary'});\n",
              "      const a = document.createElement('a');\n",
              "      a.href = window.URL.createObjectURL(blob);\n",
              "      a.download = filename;\n",
              "      div.appendChild(a);\n",
              "      a.click();\n",
              "      div.remove();\n",
              "    }\n",
              "  "
            ]
          },
          "metadata": {}
        },
        {
          "output_type": "display_data",
          "data": {
            "text/plain": [
              "<IPython.core.display.Javascript object>"
            ],
            "application/javascript": [
              "download(\"download_c084aa31-c19f-425e-b66b-4a3eae9e6408\", \"nova_promocao_relampago.pptx\", 263626)"
            ]
          },
          "metadata": {}
        }
      ]
    },
    {
      "cell_type": "markdown",
      "source": [],
      "metadata": {
        "id": "kOXtZuCATl17"
      }
    }
  ]
}